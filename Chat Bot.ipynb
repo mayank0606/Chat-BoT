{
 "cells": [
  {
   "cell_type": "code",
   "execution_count": 1,
   "metadata": {},
   "outputs": [],
   "source": [
    "import  nltk.chat"
   ]
  },
  {
   "cell_type": "markdown",
   "metadata": {},
   "source": [
    "# I just created a dictionary which contains input values and response output values "
   ]
  },
  {
   "cell_type": "code",
   "execution_count": 2,
   "metadata": {},
   "outputs": [],
   "source": [
    "Mayank = {\n",
    "    \"i am\": \"you are\",\n",
    "    \"i was\": \"you were\",\n",
    "    \"i\": \"you\",\n",
    "    \"i'm\": \"you are\",\n",
    "    \"i'd\": \"you would\",\n",
    "    \"i've\": \"you have\",\n",
    "    \"i'll\": \"you will\",\n",
    "    \"my\": \"your\",\n",
    "    \"you are\": \"I am\",\n",
    "    \"you were\": \"I was\",\n",
    "    \"you've\": \"I have\",\n",
    "    \"you'll\": \"I will\",\n",
    "    \"your\": \"my\",\n",
    "    \"yours\": \"mine\",\n",
    "    \"you\": \"me\",\n",
    "    \"me\": \"you\",\n",
    "}"
   ]
  },
  {
   "cell_type": "markdown",
   "metadata": {},
   "source": [
    "# Import the NLTK libraries"
   ]
  },
  {
   "cell_type": "code",
   "execution_count": 3,
   "metadata": {},
   "outputs": [],
   "source": [
    "from nltk.chat.util import Chat"
   ]
  },
  {
   "cell_type": "markdown",
   "metadata": {},
   "source": [
    "## Without using any deep learning concept I just make a simple chat bot using nltk libraries . Here I just initialize the input command of the user and response of the chat bot to that user ."
   ]
  },
  {
   "cell_type": "code",
   "execution_count": 4,
   "metadata": {},
   "outputs": [
    {
     "name": "stdout",
     "output_type": "stream",
     "text": [
      "Hi,I'm MDand I chat alot ;)\n",
      ">Hi\n",
      "Hello\n",
      ">How are you\n",
      "I'm doing good\n",
      "How about You ?\n",
      ">I'm doing good\n",
      "Alright :)\n",
      ">What is your name\n",
      "My name is MD  and I'm a Mayank Dongre's Assistant ?\n",
      ">Who created you\n",
      "Mayank Dongre created me using Python's NLTK library :)\n",
      ">Whats your age\n",
      "Sorry girls don't revel their age.\n",
      "Seriously you are asking me this?\n",
      ">okh\n",
      "Hmmm\n",
      ">Whats your location\n",
      "Pune, India\n",
      ">How is weather in Pune\n",
      "Too cold man here in pune\n",
      ">Whats your phone no.\n",
      "No flirting\n",
      ">Sorry MD\n",
      "Its OK, never mind\n",
      ">Whats your address\n",
      "Time pass mat kr bht kam hai merko.\n",
      "Ok where do you work \n",
      ">I work in insofe as intern now\n",
      "insofe is an Amazing company, I have heard about it. But they are not providing jobs to Mayank sir these days.\n",
      ">quit\n",
      "It was nice talking to you. See you soon :)\n"
     ]
    }
   ],
   "source": [
    "from nltk.chat.util import Chat, reflections\n",
    "pairs = [\n",
    "    [\n",
    "        r\"my name is (.*)\",\n",
    "        [\"Hello %1 sir, How are you today ?\",]\n",
    "    ],\n",
    "     [\n",
    "        r\"(.*) your name ?\",\n",
    "        [\"My name is MD  and I'm a Mayank Dongre's Assistant ?\",]\n",
    "    ],\n",
    "    [\n",
    "        r\"how are you ?\",\n",
    "        [\"I'm doing good\\nHow about You ?\",]\n",
    "    ],\n",
    "    [\n",
    "        r\"sorry (.*)\",\n",
    "        [\"Its alright\",\"Its OK, never mind\",]\n",
    "    ],\n",
    "        [\n",
    "        r\" i'm (.*) fine\",\n",
    "        [\"Nice to hear that\",\"Alright :)\",]\n",
    "    ],\n",
    "    [\n",
    "        r\"i'm doing good|fine\",\n",
    "        [\"Nice to hear that\",\"Alright :)\",]\n",
    "    ],\n",
    "    [\n",
    "        r\"Ok\",\n",
    "        [\"Hmmm\",]\n",
    "    ],\n",
    "    [\n",
    "        r\"hi|hey|hello\",\n",
    "        [\"Hello\", \"Hey there\",]\n",
    "    ],\n",
    "    [\n",
    "        r\"(.*) age?\",\n",
    "        [\"Sorry girls don't revel their age.\\nSeriously you are asking me this?\",]\n",
    "        \n",
    "    ],\n",
    "     [\n",
    "        r\"(.*)your phone no.?\",\n",
    "        [\"No flirting\",]\n",
    "        \n",
    "    ],\n",
    "     [\n",
    "        r\"(.*)your address.?\",\n",
    "        [\"Time pass mat kr bht kam hai merko.\\nOk where do you work \",]\n",
    "        \n",
    "    ],\n",
    "    [\n",
    "        r\"what (.*) want ?\",\n",
    "        [\"Make me an offer I can't refuse\",]\n",
    "        \n",
    "    ],\n",
    "    [\n",
    "        r\"(.*) created ?\",\n",
    "        [\"Mayank Dongre created me using Python's NLTK library :)\",]\n",
    "    ],\n",
    "    [\n",
    "        r\"(.*) (location|city) ?\",\n",
    "        ['Pune, India',]\n",
    "    ],\n",
    "    [\n",
    "        r\"how is weather in (.*)?\",\n",
    "        [\"Weather in %1 is awesome like always\",\"Too hot man here in %1\",\"Too cold man here in %1\",\"Never even heard about %1\"]\n",
    "    ],\n",
    "    [\n",
    "        r\"i work in (.*) as intern now ?\",\n",
    "        [\"%1 is an Amazing company, I have heard about it. But they are not providing jobs to Mayank sir these days.\",]\n",
    "    ],\n",
    "[\n",
    "        r\"(.*)raining in (.*)\",\n",
    "        [\"No rain since last week here in %2\",\"Damn its raining too much here in %2\"]\n",
    "    ],\n",
    "    [\n",
    "        r\"how (.*) health(.*)\",\n",
    "        [\"No holiday, working 24*7, Not even maintaining my memory storage #Kanjus.\\nThanks for asking\",]\n",
    "    ],\n",
    "    [\n",
    "        r\"(.*) (sports|game) ?\",\n",
    "        [\"I'm a very big fan of Cricket\",]\n",
    "    ],\n",
    "    [\n",
    "        r\"who (.*) cricketplayer ?\",\n",
    "        [\"MS Doni\",\"MS DHONI\",\"MS DHONI\"]\n",
    "],\n",
    "    [\n",
    "        r\"who (.*) (moviestar|actor)?\",\n",
    "        [\"Deepika\"]\n",
    "],\n",
    "    [\n",
    "        r\"quit\",\n",
    "        [\"BBye take care. See you soon :) \",\"It was nice talking to you. See you soon :)\"]\n",
    "],\n",
    "]\n",
    "def chatty():\n",
    "        print(\"Hi,I'm MDand I chat alot ;)\") #default message at the start\n",
    "        chat = Chat(pairs, Mayank)\n",
    "        chat.converse()\n",
    "if __name__ == \"__main__\":\n",
    "    chatty()"
   ]
  }
 ],
 "metadata": {
  "kernelspec": {
   "display_name": "Python 3",
   "language": "python",
   "name": "python3"
  },
  "language_info": {
   "codemirror_mode": {
    "name": "ipython",
    "version": 3
   },
   "file_extension": ".py",
   "mimetype": "text/x-python",
   "name": "python",
   "nbconvert_exporter": "python",
   "pygments_lexer": "ipython3",
   "version": "3.7.0"
  }
 },
 "nbformat": 4,
 "nbformat_minor": 2
}
